{
 "cells": [
  {
   "cell_type": "code",
   "execution_count": 1,
   "metadata": {},
   "outputs": [],
   "source": [
    "import requests"
   ]
  },
  {
   "cell_type": "code",
   "execution_count": 24,
   "metadata": {},
   "outputs": [],
   "source": [
    "API_KEY = \"5b3ce3597851110001cf62482b5fcfdeefe14d60995ced782d556eca\"\n",
    "start_point = (8.681495, 49.41461)  # Example: Start location\n",
    "end_point = (8.687872, 49.420318)   # Example: Destination\n",
    "\n",
    "url = \"https://api.openrouteservice.org/v2/directions/driving-car\"\n",
    "params = {\n",
    "    \"api_key\": API_KEY,\n",
    "    \"start\": f\"{start_point[0]},{start_point[1]}\",\n",
    "    \"end\": f\"{end_point[0]},{end_point[1]}\"\n",
    "}"
   ]
  },
  {
   "cell_type": "code",
   "execution_count": 25,
   "metadata": {},
   "outputs": [],
   "source": [
    "response = requests.post(url, params=params)"
   ]
  },
  {
   "cell_type": "code",
   "execution_count": 26,
   "metadata": {},
   "outputs": [
    {
     "data": {
      "text/plain": [
       "{'type': 'FeatureCollection',\n",
       " 'bbox': [8.681423, 49.414599, 8.690123, 49.420514],\n",
       " 'features': [{'bbox': [8.681423, 49.414599, 8.690123, 49.420514],\n",
       "   'type': 'Feature',\n",
       "   'properties': {'segments': [{'distance': 1408.8,\n",
       "      'duration': 281.9,\n",
       "      'steps': [{'distance': 1.8,\n",
       "        'duration': 0.4,\n",
       "        'type': 11,\n",
       "        'instruction': 'Head west on Gerhart-Hauptmann-Straße',\n",
       "        'name': 'Gerhart-Hauptmann-Straße',\n",
       "        'way_points': [0, 1]},\n",
       "       {'distance': 313.8,\n",
       "        'duration': 75.3,\n",
       "        'type': 1,\n",
       "        'instruction': 'Turn right onto Wielandtstraße',\n",
       "        'name': 'Wielandtstraße',\n",
       "        'way_points': [1, 6]},\n",
       "       {'distance': 500.8,\n",
       "        'duration': 76.4,\n",
       "        'type': 1,\n",
       "        'instruction': 'Turn right onto Mönchhofstraße',\n",
       "        'name': 'Mönchhofstraße',\n",
       "        'way_points': [6, 17]},\n",
       "       {'distance': 251.9,\n",
       "        'duration': 60.5,\n",
       "        'type': 0,\n",
       "        'instruction': 'Turn left onto Erwin-Rohde-Straße',\n",
       "        'name': 'Erwin-Rohde-Straße',\n",
       "        'way_points': [17, 21]},\n",
       "       {'distance': 126.8,\n",
       "        'duration': 30.4,\n",
       "        'type': 1,\n",
       "        'instruction': 'Turn right onto Moltkestraße',\n",
       "        'name': 'Moltkestraße',\n",
       "        'way_points': [21, 22]},\n",
       "       {'distance': 83.0,\n",
       "        'duration': 7.5,\n",
       "        'type': 2,\n",
       "        'instruction': 'Turn sharp left onto Handschuhsheimer Landstraße, B 3',\n",
       "        'name': 'Handschuhsheimer Landstraße, B 3',\n",
       "        'way_points': [22, 24]},\n",
       "       {'distance': 130.6,\n",
       "        'duration': 31.4,\n",
       "        'type': 0,\n",
       "        'instruction': 'Turn left onto Roonstraße',\n",
       "        'name': 'Roonstraße',\n",
       "        'way_points': [24, 25]},\n",
       "       {'distance': 0.0,\n",
       "        'duration': 0.0,\n",
       "        'type': 10,\n",
       "        'instruction': 'Arrive at Roonstraße, straight ahead',\n",
       "        'name': '-',\n",
       "        'way_points': [25, 25]}]}],\n",
       "    'way_points': [0, 25],\n",
       "    'summary': {'distance': 1408.8, 'duration': 281.9}},\n",
       "   'geometry': {'coordinates': [[8.681495, 49.414599],\n",
       "     [8.68147, 49.414599],\n",
       "     [8.681488, 49.41465],\n",
       "     [8.681423, 49.415746],\n",
       "     [8.681656, 49.41659],\n",
       "     [8.681826, 49.417081],\n",
       "     [8.681881, 49.417392],\n",
       "     [8.682461, 49.417389],\n",
       "     [8.682676, 49.417387],\n",
       "     [8.682781, 49.417386],\n",
       "     [8.683023, 49.417384],\n",
       "     [8.683595, 49.417372],\n",
       "     [8.68536, 49.417365],\n",
       "     [8.686407, 49.417365],\n",
       "     [8.68703, 49.41736],\n",
       "     [8.687467, 49.417351],\n",
       "     [8.688212, 49.417358],\n",
       "     [8.688802, 49.417381],\n",
       "     [8.68871, 49.418194],\n",
       "     [8.688647, 49.418465],\n",
       "     [8.688539, 49.418964],\n",
       "     [8.688398, 49.41963],\n",
       "     [8.690123, 49.419833],\n",
       "     [8.689854, 49.420217],\n",
       "     [8.689653, 49.420514],\n",
       "     [8.687871, 49.420322]],\n",
       "    'type': 'LineString'}}],\n",
       " 'metadata': {'attribution': 'openrouteservice.org | OpenStreetMap contributors',\n",
       "  'service': 'routing',\n",
       "  'timestamp': 1737887547087,\n",
       "  'query': {'coordinates': [[8.681495, 49.41461], [8.687872, 49.420318]],\n",
       "   'profile': 'driving-car',\n",
       "   'profileName': 'driving-car',\n",
       "   'format': 'json'},\n",
       "  'engine': {'version': '9.0.0',\n",
       "   'build_date': '2024-12-02T11:09:21Z',\n",
       "   'graph_date': '2025-01-21T09:49:30Z'}}}"
      ]
     },
     "execution_count": 26,
     "metadata": {},
     "output_type": "execute_result"
    }
   ],
   "source": [
    "response.json()"
   ]
  },
  {
   "cell_type": "code",
   "execution_count": 31,
   "metadata": {},
   "outputs": [
    {
     "name": "stdout",
     "output_type": "stream",
     "text": [
      "Decoded Coordinates: {'type': 'LineString', 'coordinates': [[-8e-05, 3e-05], [0.0, 5e-05], [3e-05, 2e-05], [0.00275, -1e-05], [0.00268, 7e-05], [0.00261, 0.0002], [0.00253, 0.00025], [0.00365, 0.00028], [0.00373, 0.00018], [0.00405, 0.00025], [0.0041, 0.00016]]}\n"
     ]
    }
   ],
   "source": [
    "import openrouteservice\n",
    "\n",
    "# Route geometry (encoded) from the response\n",
    "encoded_geometry = \"ENCODED_POLYLINE_FROM_API\"\n",
    "\n",
    "# Decode the geometry\n",
    "decoded_coords = openrouteservice.convert.decode_polyline(encoded_geometry)\n",
    "\n",
    "# Example output: [(lat, lon), (lat, lon), ...]\n",
    "print(\"Decoded Coordinates:\", decoded_coords)\n"
   ]
  },
  {
   "cell_type": "code",
   "execution_count": 32,
   "metadata": {},
   "outputs": [
    {
     "name": "stdout",
     "output_type": "stream",
     "text": [
      "Map saved as detailed_route_map.html!\n"
     ]
    }
   ],
   "source": [
    "import folium\n",
    "\n",
    "# Decoded route coordinates (list of [lat, lon] points)\n",
    "route_coords = [\n",
    "    [49.41461, 8.681495],   # Point 1\n",
    "    [49.41523, 8.682095],   # Point 2\n",
    "    [49.420318, 8.687872]   # Point 3\n",
    "]\n",
    "\n",
    "# Create a map centered on the first point\n",
    "m = folium.Map(location=route_coords[0], zoom_start=15)\n",
    "\n",
    "# Add the route as a PolyLine\n",
    "folium.PolyLine(\n",
    "    locations=route_coords,  # Use detailed coordinates\n",
    "    color=\"blue\",\n",
    "    weight=5,\n",
    "    tooltip=\"Detailed Route\"\n",
    ").add_to(m)\n",
    "\n",
    "# Add markers for start and end points\n",
    "folium.Marker(route_coords[0], tooltip=\"Start\").add_to(m)\n",
    "folium.Marker(route_coords[-1], tooltip=\"End\").add_to(m)\n",
    "\n",
    "# Save the map to an HTML file\n",
    "m.save(\"detailed_route_map.html\")\n",
    "print(\"Map saved as detailed_route_map.html!\")\n"
   ]
  },
  {
   "cell_type": "code",
   "execution_count": null,
   "metadata": {},
   "outputs": [],
   "source": []
  }
 ],
 "metadata": {
  "kernelspec": {
   "display_name": "ML_Environment_1",
   "language": "python",
   "name": "python3"
  },
  "language_info": {
   "codemirror_mode": {
    "name": "ipython",
    "version": 3
   },
   "file_extension": ".py",
   "mimetype": "text/x-python",
   "name": "python",
   "nbconvert_exporter": "python",
   "pygments_lexer": "ipython3",
   "version": "3.12.7"
  }
 },
 "nbformat": 4,
 "nbformat_minor": 2
}
